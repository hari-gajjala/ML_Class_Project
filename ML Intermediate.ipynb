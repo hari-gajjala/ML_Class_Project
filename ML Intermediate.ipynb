{
 "cells": [
  {
   "cell_type": "markdown",
   "id": "e6ac6960",
   "metadata": {},
   "source": [
    "## Packages"
   ]
  },
  {
   "cell_type": "code",
   "execution_count": 1,
   "id": "a624a2b8",
   "metadata": {},
   "outputs": [],
   "source": [
    "import pandas as pd\n",
    "import numpy as np\n",
    "import seaborn as sns\n",
    "import matplotlib.pyplot as plt\n",
    "\n",
    "from sklearn.impute import SimpleImputer\n",
    "\n",
    "from sklearn.ensemble import RandomForestClassifier\n",
    "from sklearn.svm import SVC\n",
    "#from sklearn.linear_model import SGDClassifier\n",
    "from sklearn.metrics import confusion_matrix, classification_report\n",
    "from sklearn.preprocessing import StandardScaler, LabelEncoder\n",
    "from sklearn.model_selection import train_test_split\n",
    "%matplotlib inline"
   ]
  },
  {
   "cell_type": "markdown",
   "id": "ba9485b8",
   "metadata": {},
   "source": [
    "# Preprocessing"
   ]
  },
  {
   "cell_type": "code",
   "execution_count": 2,
   "id": "aed943b4",
   "metadata": {},
   "outputs": [],
   "source": [
    "#loading dataset\n",
    "df = pd.read_csv('Edited_Crime_Data_from_2020_to_Present.csv')"
   ]
  },
  {
   "cell_type": "code",
   "execution_count": 3,
   "id": "76cfdddd",
   "metadata": {},
   "outputs": [
    {
     "data": {
      "text/plain": [
       "Date Rptd              0\n",
       "DATE OCC               0\n",
       "TIME OCC               0\n",
       "AREA                   0\n",
       "AREA NAME              0\n",
       "Rpt Dist No            0\n",
       "Part 1-2               0\n",
       "Crm Cd                 0\n",
       "Crm Cd Desc            0\n",
       "Vict Age               0\n",
       "Vict Sex           41975\n",
       "Vict Descent       41981\n",
       "Premis Cd              5\n",
       "Premis Desc          109\n",
       "Weapon Used Cd    204007\n",
       "Weapon Desc       204007\n",
       "Status                 0\n",
       "Status Desc            0\n",
       "Crm Cd 1               2\n",
       "LOCATION               0\n",
       "Cross Street      264247\n",
       "LAT                    0\n",
       "LON                    0\n",
       "dtype: int64"
      ]
     },
     "execution_count": 3,
     "metadata": {},
     "output_type": "execute_result"
    }
   ],
   "source": [
    "df.isnull().sum()"
   ]
  },
  {
   "cell_type": "code",
   "execution_count": 4,
   "id": "cc65d33b",
   "metadata": {},
   "outputs": [],
   "source": [
    "df = df.dropna(subset=['Weapon Used Cd'])\n",
    "df = df.dropna(axis=1,thresh=len(df)*0.75)\n",
    "df['Weapon Used Cd'] /= 100\n",
    "df['Weapon Used Cd'] = df['Weapon Used Cd'].apply(np.floor)"
   ]
  },
  {
   "cell_type": "code",
   "execution_count": 5,
   "id": "6880b5a4",
   "metadata": {},
   "outputs": [],
   "source": [
    "df = df._get_numeric_data()"
   ]
  },
  {
   "cell_type": "code",
   "execution_count": 6,
   "id": "8de49f66",
   "metadata": {},
   "outputs": [
    {
     "name": "stdout",
     "output_type": "stream",
     "text": [
      "1.0\n",
      "2.0\n",
      "3.0\n",
      "4.0\n",
      "5.0\n"
     ]
    }
   ],
   "source": [
    "for value in set(df['Weapon Used Cd']):\n",
    "    print(value)"
   ]
  },
  {
   "cell_type": "code",
   "execution_count": 7,
   "id": "4c4f925b",
   "metadata": {
    "scrolled": true
   },
   "outputs": [
    {
     "data": {
      "text/plain": [
       "(        TIME OCC  AREA  Rpt Dist No  Part 1-2  Crm Cd  Vict Age  Premis Cd  \\\n",
       " 0           2230     3          377         2     624        36      501.0   \n",
       " 1            330     1          163         2     624        25      102.0   \n",
       " 5             30     1          163         1     121        25      735.0   \n",
       " 9             30    18         1871         2     930        21      101.0   \n",
       " 10          2200     1          192         1     330        29      101.0   \n",
       " ...          ...   ...          ...       ...     ...       ...        ...   \n",
       " 321980       915     2          246         2     624        54      101.0   \n",
       " 321985       813     6          645         2     624        33      135.0   \n",
       " 321991      2135    21         2143         2     624        44      101.0   \n",
       " 321993      2210     5          564         2     434        41      502.0   \n",
       " 321994      1050    17         1798         2     624        40      501.0   \n",
       " \n",
       "         Crm Cd 1      LAT       LON  \n",
       " 0          624.0  34.0141 -118.2978  \n",
       " 1          624.0  34.0459 -118.2545  \n",
       " 5          121.0  34.0452 -118.2534  \n",
       " 9          930.0  33.9019 -118.2916  \n",
       " 10         330.0  34.0359 -118.2648  \n",
       " ...          ...      ...       ...  \n",
       " 321980     624.0  34.0593 -118.2750  \n",
       " 321985     624.0  34.1016 -118.3391  \n",
       " 321991     624.0  34.1855 -118.6296  \n",
       " 321993     434.0  33.7424 -118.2814  \n",
       " 321994     624.0  34.2302 -118.4775  \n",
       " \n",
       " [117990 rows x 10 columns],\n",
       " 0         4.0\n",
       " 1         5.0\n",
       " 5         5.0\n",
       " 9         5.0\n",
       " 10        3.0\n",
       "          ... \n",
       " 321980    5.0\n",
       " 321985    5.0\n",
       " 321991    4.0\n",
       " 321993    2.0\n",
       " 321994    5.0\n",
       " Name: Weapon Used Cd, Length: 117990, dtype: float64)"
      ]
     },
     "execution_count": 7,
     "metadata": {},
     "output_type": "execute_result"
    }
   ],
   "source": [
    "X = df.drop('Weapon Used Cd', axis=1)\n",
    "y = df['Weapon Used Cd']\n",
    "X, y"
   ]
  },
  {
   "cell_type": "code",
   "execution_count": 8,
   "id": "bf89e3e1",
   "metadata": {},
   "outputs": [],
   "source": [
    "label_quality = LabelEncoder()"
   ]
  },
  {
   "cell_type": "code",
   "execution_count": 9,
   "id": "20813e45",
   "metadata": {
    "scrolled": true
   },
   "outputs": [
    {
     "data": {
      "text/plain": [
       "array([3, 4, 4, ..., 3, 1, 4], dtype=int64)"
      ]
     },
     "execution_count": 9,
     "metadata": {},
     "output_type": "execute_result"
    }
   ],
   "source": [
    "y = label_quality.fit_transform(y)\n",
    "y"
   ]
  },
  {
   "cell_type": "code",
   "execution_count": 10,
   "id": "02a098e3",
   "metadata": {},
   "outputs": [
    {
     "data": {
      "text/plain": [
       "TIME OCC       0\n",
       "AREA           0\n",
       "Rpt Dist No    0\n",
       "Part 1-2       0\n",
       "Crm Cd         0\n",
       "Vict Age       0\n",
       "Premis Cd      0\n",
       "Crm Cd 1       0\n",
       "LAT            0\n",
       "LON            0\n",
       "dtype: int64"
      ]
     },
     "execution_count": 10,
     "metadata": {},
     "output_type": "execute_result"
    }
   ],
   "source": [
    "# method for filling in empty spaces, save imp to normalize when using the model\n",
    "imp=SimpleImputer(strategy='mean')\n",
    "X=pd.DataFrame(imp.fit_transform(X), columns = X.columns)\n",
    "\n",
    "X.isnull().sum()"
   ]
  },
  {
   "cell_type": "code",
   "execution_count": 11,
   "id": "8f8750cc",
   "metadata": {},
   "outputs": [
    {
     "data": {
      "text/html": [
       "<div>\n",
       "<style scoped>\n",
       "    .dataframe tbody tr th:only-of-type {\n",
       "        vertical-align: middle;\n",
       "    }\n",
       "\n",
       "    .dataframe tbody tr th {\n",
       "        vertical-align: top;\n",
       "    }\n",
       "\n",
       "    .dataframe thead th {\n",
       "        text-align: right;\n",
       "    }\n",
       "</style>\n",
       "<table border=\"1\" class=\"dataframe\">\n",
       "  <thead>\n",
       "    <tr style=\"text-align: right;\">\n",
       "      <th></th>\n",
       "      <th>TIME OCC</th>\n",
       "      <th>AREA</th>\n",
       "      <th>Rpt Dist No</th>\n",
       "      <th>Part 1-2</th>\n",
       "      <th>Crm Cd</th>\n",
       "      <th>Vict Age</th>\n",
       "      <th>Premis Cd</th>\n",
       "      <th>Crm Cd 1</th>\n",
       "      <th>LAT</th>\n",
       "      <th>LON</th>\n",
       "    </tr>\n",
       "  </thead>\n",
       "  <tbody>\n",
       "    <tr>\n",
       "      <th>0</th>\n",
       "      <td>1.296737</td>\n",
       "      <td>-1.221098</td>\n",
       "      <td>-1.174017</td>\n",
       "      <td>0.908887</td>\n",
       "      <td>0.484085</td>\n",
       "      <td>0.075093</td>\n",
       "      <td>0.904622</td>\n",
       "      <td>0.488062</td>\n",
       "      <td>0.071099</td>\n",
       "      <td>-0.082996</td>\n",
       "    </tr>\n",
       "    <tr>\n",
       "      <th>1</th>\n",
       "      <td>-1.532655</td>\n",
       "      <td>-1.543728</td>\n",
       "      <td>-1.520049</td>\n",
       "      <td>0.908887</td>\n",
       "      <td>0.484085</td>\n",
       "      <td>-0.545235</td>\n",
       "      <td>-0.980030</td>\n",
       "      <td>0.488062</td>\n",
       "      <td>0.081893</td>\n",
       "      <td>-0.078763</td>\n",
       "    </tr>\n",
       "    <tr>\n",
       "      <th>2</th>\n",
       "      <td>-1.979401</td>\n",
       "      <td>-1.543728</td>\n",
       "      <td>-1.520049</td>\n",
       "      <td>-1.100247</td>\n",
       "      <td>-1.614306</td>\n",
       "      <td>-0.545235</td>\n",
       "      <td>2.009907</td>\n",
       "      <td>-1.614835</td>\n",
       "      <td>0.081656</td>\n",
       "      <td>-0.078655</td>\n",
       "    </tr>\n",
       "    <tr>\n",
       "      <th>3</th>\n",
       "      <td>-1.979401</td>\n",
       "      <td>1.198624</td>\n",
       "      <td>1.241739</td>\n",
       "      <td>0.908887</td>\n",
       "      <td>1.760642</td>\n",
       "      <td>-0.770809</td>\n",
       "      <td>-0.984753</td>\n",
       "      <td>1.767360</td>\n",
       "      <td>0.033011</td>\n",
       "      <td>-0.082390</td>\n",
       "    </tr>\n",
       "    <tr>\n",
       "      <th>4</th>\n",
       "      <td>1.252062</td>\n",
       "      <td>-1.543728</td>\n",
       "      <td>-1.473157</td>\n",
       "      <td>-1.100247</td>\n",
       "      <td>-0.742410</td>\n",
       "      <td>-0.319662</td>\n",
       "      <td>-0.984753</td>\n",
       "      <td>-0.741066</td>\n",
       "      <td>0.078499</td>\n",
       "      <td>-0.079770</td>\n",
       "    </tr>\n",
       "    <tr>\n",
       "      <th>...</th>\n",
       "      <td>...</td>\n",
       "      <td>...</td>\n",
       "      <td>...</td>\n",
       "      <td>...</td>\n",
       "      <td>...</td>\n",
       "      <td>...</td>\n",
       "      <td>...</td>\n",
       "      <td>...</td>\n",
       "      <td>...</td>\n",
       "      <td>...</td>\n",
       "    </tr>\n",
       "    <tr>\n",
       "      <th>117985</th>\n",
       "      <td>-0.661500</td>\n",
       "      <td>-1.382413</td>\n",
       "      <td>-1.385840</td>\n",
       "      <td>0.908887</td>\n",
       "      <td>0.484085</td>\n",
       "      <td>1.090176</td>\n",
       "      <td>-0.984753</td>\n",
       "      <td>0.488062</td>\n",
       "      <td>0.086442</td>\n",
       "      <td>-0.080767</td>\n",
       "    </tr>\n",
       "    <tr>\n",
       "      <th>117986</th>\n",
       "      <td>-0.813394</td>\n",
       "      <td>-0.737154</td>\n",
       "      <td>-0.740669</td>\n",
       "      <td>0.908887</td>\n",
       "      <td>0.484085</td>\n",
       "      <td>-0.094088</td>\n",
       "      <td>-0.824156</td>\n",
       "      <td>0.488062</td>\n",
       "      <td>0.100802</td>\n",
       "      <td>-0.087034</td>\n",
       "    </tr>\n",
       "    <tr>\n",
       "      <th>117987</th>\n",
       "      <td>1.155267</td>\n",
       "      <td>1.682569</td>\n",
       "      <td>1.681555</td>\n",
       "      <td>0.908887</td>\n",
       "      <td>0.484085</td>\n",
       "      <td>0.526241</td>\n",
       "      <td>-0.984753</td>\n",
       "      <td>0.488062</td>\n",
       "      <td>0.129283</td>\n",
       "      <td>-0.115436</td>\n",
       "    </tr>\n",
       "    <tr>\n",
       "      <th>117988</th>\n",
       "      <td>1.266953</td>\n",
       "      <td>-0.898469</td>\n",
       "      <td>-0.871643</td>\n",
       "      <td>0.908887</td>\n",
       "      <td>-0.308548</td>\n",
       "      <td>0.357060</td>\n",
       "      <td>0.909346</td>\n",
       "      <td>-0.306273</td>\n",
       "      <td>-0.021134</td>\n",
       "      <td>-0.081393</td>\n",
       "    </tr>\n",
       "    <tr>\n",
       "      <th>117989</th>\n",
       "      <td>-0.460465</td>\n",
       "      <td>1.037310</td>\n",
       "      <td>1.123700</td>\n",
       "      <td>0.908887</td>\n",
       "      <td>0.484085</td>\n",
       "      <td>0.300667</td>\n",
       "      <td>0.904622</td>\n",
       "      <td>0.488062</td>\n",
       "      <td>0.144457</td>\n",
       "      <td>-0.100565</td>\n",
       "    </tr>\n",
       "  </tbody>\n",
       "</table>\n",
       "<p>117990 rows × 10 columns</p>\n",
       "</div>"
      ],
      "text/plain": [
       "        TIME OCC      AREA  Rpt Dist No  Part 1-2    Crm Cd  Vict Age  \\\n",
       "0       1.296737 -1.221098    -1.174017  0.908887  0.484085  0.075093   \n",
       "1      -1.532655 -1.543728    -1.520049  0.908887  0.484085 -0.545235   \n",
       "2      -1.979401 -1.543728    -1.520049 -1.100247 -1.614306 -0.545235   \n",
       "3      -1.979401  1.198624     1.241739  0.908887  1.760642 -0.770809   \n",
       "4       1.252062 -1.543728    -1.473157 -1.100247 -0.742410 -0.319662   \n",
       "...          ...       ...          ...       ...       ...       ...   \n",
       "117985 -0.661500 -1.382413    -1.385840  0.908887  0.484085  1.090176   \n",
       "117986 -0.813394 -0.737154    -0.740669  0.908887  0.484085 -0.094088   \n",
       "117987  1.155267  1.682569     1.681555  0.908887  0.484085  0.526241   \n",
       "117988  1.266953 -0.898469    -0.871643  0.908887 -0.308548  0.357060   \n",
       "117989 -0.460465  1.037310     1.123700  0.908887  0.484085  0.300667   \n",
       "\n",
       "        Premis Cd  Crm Cd 1       LAT       LON  \n",
       "0        0.904622  0.488062  0.071099 -0.082996  \n",
       "1       -0.980030  0.488062  0.081893 -0.078763  \n",
       "2        2.009907 -1.614835  0.081656 -0.078655  \n",
       "3       -0.984753  1.767360  0.033011 -0.082390  \n",
       "4       -0.984753 -0.741066  0.078499 -0.079770  \n",
       "...           ...       ...       ...       ...  \n",
       "117985  -0.984753  0.488062  0.086442 -0.080767  \n",
       "117986  -0.824156  0.488062  0.100802 -0.087034  \n",
       "117987  -0.984753  0.488062  0.129283 -0.115436  \n",
       "117988   0.909346 -0.306273 -0.021134 -0.081393  \n",
       "117989   0.904622  0.488062  0.144457 -0.100565  \n",
       "\n",
       "[117990 rows x 10 columns]"
      ]
     },
     "execution_count": 11,
     "metadata": {},
     "output_type": "execute_result"
    }
   ],
   "source": [
    "# method for scaling down columns\n",
    "sc_input = StandardScaler()\n",
    "X=pd.DataFrame(sc_input.fit_transform(X), columns = X.columns)\n",
    "\n",
    "X"
   ]
  },
  {
   "cell_type": "code",
   "execution_count": 12,
   "id": "de809238",
   "metadata": {},
   "outputs": [],
   "source": [
    "X_train, X_test, y_train, y_test = train_test_split(X, y, test_size = 0.2, random_state=42)"
   ]
  },
  {
   "cell_type": "markdown",
   "id": "f9558776",
   "metadata": {},
   "source": [
    "# Machine Learning Models"
   ]
  },
  {
   "cell_type": "markdown",
   "id": "563ab840",
   "metadata": {},
   "source": [
    "# Random Forest Classifier"
   ]
  },
  {
   "cell_type": "code",
   "execution_count": 13,
   "id": "7bf23a01",
   "metadata": {},
   "outputs": [],
   "source": [
    "rfc = RandomForestClassifier(n_estimators=50)\n",
    "rfc.fit(X_train, y_train)\n",
    "pred_rfc = rfc.predict(X_test)"
   ]
  },
  {
   "cell_type": "code",
   "execution_count": 14,
   "id": "86c74ffd",
   "metadata": {
    "scrolled": true
   },
   "outputs": [
    {
     "name": "stdout",
     "output_type": "stream",
     "text": [
      "              precision    recall  f1-score   support\n",
      "\n",
      "           0       0.54      0.58      0.56      2888\n",
      "           1       0.42      0.37      0.39      2113\n",
      "           2       0.33      0.20      0.25      1439\n",
      "           3       0.80      0.91      0.85     12470\n",
      "           4       0.70      0.56      0.62      4688\n",
      "\n",
      "    accuracy                           0.71     23598\n",
      "   macro avg       0.56      0.52      0.53     23598\n",
      "weighted avg       0.69      0.71      0.69     23598\n",
      "\n",
      "[[ 1682   350   135   567   154]\n",
      " [  443   774   130   505   261]\n",
      " [  276   231   283   387   262]\n",
      " [  401   206   143 11305   415]\n",
      " [  290   301   166  1326  2605]]\n"
     ]
    }
   ],
   "source": [
    "print(classification_report(y_test, pred_rfc))\n",
    "print(confusion_matrix(y_test, pred_rfc))"
   ]
  },
  {
   "cell_type": "markdown",
   "id": "09f09cfc",
   "metadata": {},
   "source": [
    "# SVM Classifier"
   ]
  },
  {
   "cell_type": "code",
   "execution_count": null,
   "id": "63a16973",
   "metadata": {},
   "outputs": [],
   "source": [
    "clf = SVC()\n",
    "clf.fit(X_train,y_train)\n",
    "pred_clf = clf.predict(X_test)"
   ]
  },
  {
   "cell_type": "code",
   "execution_count": null,
   "id": "410266b4",
   "metadata": {
    "scrolled": true
   },
   "outputs": [],
   "source": [
    "print(classification_report(y_test, pred_clf))\n",
    "print(confusion_matrix(y_test, pred_clf))"
   ]
  }
 ],
 "metadata": {
  "kernelspec": {
   "display_name": "Python 3",
   "language": "python",
   "name": "python3"
  },
  "language_info": {
   "codemirror_mode": {
    "name": "ipython",
    "version": 3
   },
   "file_extension": ".py",
   "mimetype": "text/x-python",
   "name": "python",
   "nbconvert_exporter": "python",
   "pygments_lexer": "ipython3",
   "version": "3.9.5"
  }
 },
 "nbformat": 4,
 "nbformat_minor": 5
}
